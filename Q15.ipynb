{
 "cells": [
  {
   "cell_type": "code",
   "execution_count": 12,
   "metadata": {},
   "outputs": [
    {
     "name": "stdout",
     "output_type": "stream",
     "text": [
      "Enter a number: 3232\n",
      "Sum of 3 + 2 + 3 + 2 + is 10\n"
     ]
    }
   ],
   "source": [
    "import re\n",
    "a = 0\n",
    "b = \"Sum of \"\n",
    "n = input(\"Enter a number: \")\n",
    "if ' ' in n or re.search('[a-zA-Z]', n):\n",
    "    print(\"No space allowed and only numeric\")\n",
    "else:\n",
    "    list(n)\n",
    "    for x in n:\n",
    "        a += int(x)\n",
    "        b += x +\" + \"\n",
    "b = b[:-1]        \n",
    "\n",
    "print(b + \" is \"+ str(a))"
   ]
  },
  {
   "cell_type": "code",
   "execution_count": null,
   "metadata": {},
   "outputs": [],
   "source": []
  },
  {
   "cell_type": "code",
   "execution_count": null,
   "metadata": {},
   "outputs": [],
   "source": []
  }
 ],
 "metadata": {
  "kernelspec": {
   "display_name": "Python 3",
   "language": "python",
   "name": "python3"
  },
  "language_info": {
   "codemirror_mode": {
    "name": "ipython",
    "version": 3
   },
   "file_extension": ".py",
   "mimetype": "text/x-python",
   "name": "python",
   "nbconvert_exporter": "python",
   "pygments_lexer": "ipython3",
   "version": "3.7.3"
  }
 },
 "nbformat": 4,
 "nbformat_minor": 2
}
