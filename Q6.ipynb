{
 "cells": [
  {
   "cell_type": "code",
   "execution_count": 9,
   "metadata": {},
   "outputs": [
    {
     "name": "stdout",
     "output_type": "stream",
     "text": [
      "Enter String: Shaheer\n",
      "How many copies of String you need: 14\n",
      "ShaheerShaheerShaheerShaheerShaheerShaheerShaheerShaheerShaheerShaheerShaheerShaheerShaheerShaheer\n"
     ]
    }
   ],
   "source": [
    "text = input('Enter String: ')\n",
    "times = int(input('How many copies of String you need: '))\n",
    "p = ''\n",
    "if times < 0:\n",
    "    print('Kindly Enter Positive Integer.')\n",
    "else:\n",
    "    for x in range(times):\n",
    "        p += text\n",
    "print(p)"
   ]
  },
  {
   "cell_type": "code",
   "execution_count": null,
   "metadata": {},
   "outputs": [],
   "source": []
  }
 ],
 "metadata": {
  "kernelspec": {
   "display_name": "Python 3",
   "language": "python",
   "name": "python3"
  },
  "language_info": {
   "codemirror_mode": {
    "name": "ipython",
    "version": 3
   },
   "file_extension": ".py",
   "mimetype": "text/x-python",
   "name": "python",
   "nbconvert_exporter": "python",
   "pygments_lexer": "ipython3",
   "version": "3.7.3"
  }
 },
 "nbformat": 4,
 "nbformat_minor": 2
}
