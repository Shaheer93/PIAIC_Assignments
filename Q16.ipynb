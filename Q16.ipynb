{
 "cells": [
  {
   "cell_type": "code",
   "execution_count": 6,
   "metadata": {},
   "outputs": [
    {
     "name": "stdout",
     "output_type": "stream",
     "text": [
      "Enter a decimal number: 101\n",
      "Equivalent Binary Number:  0b1100101\n"
     ]
    }
   ],
   "source": [
    "import re\n",
    "n = input(\"Enter a decimal number: \")\n",
    "if ' ' in n or re.search('[a-zA-Z]', n):\n",
    "    print(\"No space allowed and only numeric\")\n",
    "else:\n",
    "    print(\"Binary Representation of  \"+n +\" is \", bin(int(n)))"
   ]
  },
  {
   "cell_type": "code",
   "execution_count": null,
   "metadata": {},
   "outputs": [],
   "source": []
  }
 ],
 "metadata": {
  "kernelspec": {
   "display_name": "Python 3",
   "language": "python",
   "name": "python3"
  },
  "language_info": {
   "codemirror_mode": {
    "name": "ipython",
    "version": 3
   },
   "file_extension": ".py",
   "mimetype": "text/x-python",
   "name": "python",
   "nbconvert_exporter": "python",
   "pygments_lexer": "ipython3",
   "version": "3.7.3"
  }
 },
 "nbformat": 4,
 "nbformat_minor": 2
}
