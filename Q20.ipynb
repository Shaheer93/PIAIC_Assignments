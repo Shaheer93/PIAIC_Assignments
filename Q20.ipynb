{
 "cells": [
  {
   "cell_type": "code",
   "execution_count": 6,
   "metadata": {},
   "outputs": [
    {
     "name": "stdout",
     "output_type": "stream",
     "text": [
      "Enter text:  Python 3.2\n",
      "\n",
      "Numbers:   2\n",
      "Alphabets:  6\n",
      "Special Characters:  1\n",
      "Spaces:  2\n"
     ]
    }
   ],
   "source": [
    "string = input(\"Enter text: \")\n",
    "alphabets = digits = special = spaces = 0\n",
    "\n",
    "for i in range(len(string)):\n",
    "    if(string[i].isalpha()):\n",
    "        alphabets = alphabets + 1\n",
    "    elif(any(char.isdigit() for char in string[i])):\n",
    "        digits = digits + 1\n",
    "    elif(' ' in string[i]):\n",
    "        spaces = spaces + 1\n",
    "    else:\n",
    "        special = special + 1\n",
    "        \n",
    "print(\"\\nNumbers:  \", digits)        \n",
    "print(\"Alphabets: \", alphabets)\n",
    "print(\"Special Characters: \", special)\n",
    "print(\"Spaces: \", spaces)\n"
   ]
  },
  {
   "cell_type": "code",
   "execution_count": null,
   "metadata": {},
   "outputs": [],
   "source": []
  },
  {
   "cell_type": "code",
   "execution_count": null,
   "metadata": {},
   "outputs": [],
   "source": []
  }
 ],
 "metadata": {
  "kernelspec": {
   "display_name": "Python 3",
   "language": "python",
   "name": "python3"
  },
  "language_info": {
   "codemirror_mode": {
    "name": "ipython",
    "version": 3
   },
   "file_extension": ".py",
   "mimetype": "text/x-python",
   "name": "python",
   "nbconvert_exporter": "python",
   "pygments_lexer": "ipython3",
   "version": "3.7.3"
  }
 },
 "nbformat": 4,
 "nbformat_minor": 2
}
