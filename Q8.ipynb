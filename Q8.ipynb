{
 "cells": [
  {
   "cell_type": "code",
   "execution_count": null,
   "metadata": {},
   "outputs": [
    {
     "name": "stdout",
     "output_type": "stream",
     "text": [
      "Enter a character: ccc\n",
      "Error! Only 1 character allowed!\n"
     ]
    }
   ],
   "source": [
    "from collections import Counter\n",
    "vowels = ['A','E','I','O','U']\n",
    "alpha = input('Enter a character: ').upper()\n",
    "while len(alpha) > 1:    \n",
    "    print ('Error! Only 1 character allowed!');\n",
    "    alpha = input (': ')[0].upper()\n",
    "    if len(alpha) == 1:\n",
    "        break  \n",
    "        \n",
    "if alpha in vowels:\n",
    "    print('Letter '+ alpha +' is Vowel')\n",
    "else:\n",
    "    print('Letter '+ alpha +' is not Vowel')"
   ]
  },
  {
   "cell_type": "code",
   "execution_count": null,
   "metadata": {},
   "outputs": [],
   "source": []
  },
  {
   "cell_type": "code",
   "execution_count": null,
   "metadata": {},
   "outputs": [],
   "source": []
  }
 ],
 "metadata": {
  "kernelspec": {
   "display_name": "Python 3",
   "language": "python",
   "name": "python3"
  },
  "language_info": {
   "codemirror_mode": {
    "name": "ipython",
    "version": 3
   },
   "file_extension": ".py",
   "mimetype": "text/x-python",
   "name": "python",
   "nbconvert_exporter": "python",
   "pygments_lexer": "ipython3",
   "version": "3.7.3"
  }
 },
 "nbformat": 4,
 "nbformat_minor": 2
}
