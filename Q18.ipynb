{
 "cells": [
  {
   "cell_type": "code",
   "execution_count": 6,
   "metadata": {},
   "outputs": [
    {
     "name": "stdout",
     "output_type": "stream",
     "text": [
      "Enter text: Hello\n",
      "Vowels 2\n",
      "Consonants 3\n"
     ]
    }
   ],
   "source": [
    "n = input(\"Enter text: \")\n",
    "v = 0\n",
    "c = 0\n",
    "vow = {\"a\", \"e\", \"i\", \"o\", \"u\", \"A\", \"E\", \"I\", \"O\", \"U\"}\n",
    "for a in n:\n",
    "    if  any(a in s for s in vow):\n",
    "        v +=1\n",
    "    else:\n",
    "        c +=1\n",
    "        \n",
    "print(\"Vowels \"+ str(v))\n",
    "print(\"Consonants \"+ str(c))\n"
   ]
  },
  {
   "cell_type": "code",
   "execution_count": null,
   "metadata": {},
   "outputs": [],
   "source": []
  }
 ],
 "metadata": {
  "kernelspec": {
   "display_name": "Python 3",
   "language": "python",
   "name": "python3"
  },
  "language_info": {
   "codemirror_mode": {
    "name": "ipython",
    "version": 3
   },
   "file_extension": ".py",
   "mimetype": "text/x-python",
   "name": "python",
   "nbconvert_exporter": "python",
   "pygments_lexer": "ipython3",
   "version": "3.7.3"
  }
 },
 "nbformat": 4,
 "nbformat_minor": 2
}
