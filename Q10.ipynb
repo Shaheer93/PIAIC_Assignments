{
 "cells": [
  {
   "cell_type": "code",
   "execution_count": 4,
   "metadata": {},
   "outputs": [
    {
     "name": "stdout",
     "output_type": "stream",
     "text": [
      "Please enter principal amount: 200\n",
      "Please Enter Rate of interest in %: 10\n",
      "Enter number of years for investment: 2\n",
      "After 2.0 years your principal amount 200.0 over an interest rate of 10.0 % will be 600.0\n"
     ]
    }
   ],
   "source": [
    "a = float(input('Please enter principal amount: '))\n",
    "i = float(input('Please Enter Rate of interest in %: '))\n",
    "y = float(input('Enter number of years for investment: '))\n",
    "t = a*(i/100)*y\n",
    "t +=a\n",
    "print('After '+str(y)+' years your principal amount '+str(a)+' over an interest rate of '+str(i)+' % will be '+str(t)+'')\n"
   ]
  },
  {
   "cell_type": "code",
   "execution_count": null,
   "metadata": {},
   "outputs": [],
   "source": []
  }
 ],
 "metadata": {
  "kernelspec": {
   "display_name": "Python 3",
   "language": "python",
   "name": "python3"
  },
  "language_info": {
   "codemirror_mode": {
    "name": "ipython",
    "version": 3
   },
   "file_extension": ".py",
   "mimetype": "text/x-python",
   "name": "python",
   "nbconvert_exporter": "python",
   "pygments_lexer": "ipython3",
   "version": "3.7.3"
  }
 },
 "nbformat": 4,
 "nbformat_minor": 2
}
