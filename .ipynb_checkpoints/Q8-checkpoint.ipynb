{
 "cells": [
  {
   "cell_type": "code",
   "execution_count": 6,
   "metadata": {},
   "outputs": [
    {
     "ename": "SyntaxError",
     "evalue": "'break' outside loop (<ipython-input-6-bf2584a21a11>, line 10)",
     "output_type": "error",
     "traceback": [
      "\u001b[1;36m  File \u001b[1;32m\"<ipython-input-6-bf2584a21a11>\"\u001b[1;36m, line \u001b[1;32m10\u001b[0m\n\u001b[1;33m    print('Letter '+ alpha +' is Vowel')\u001b[0m\n\u001b[1;37m           ^\u001b[0m\n\u001b[1;31mSyntaxError\u001b[0m\u001b[1;31m:\u001b[0m 'break' outside loop\n"
     ]
    }
   ],
   "source": [
    "vowels = ['A','E','I','O','U']\n",
    "alpha = input (': ')[0].upper()\n",
    "while len(alpha) > 1:\n",
    "     print ('Error! Only 1 character allowed!')\n",
    "     alpha = input (': ')[0].upper()\n",
    "else:\n",
    "     break  \n",
    "        \n",
    "if alpha in vowels:\n",
    "    print('Letter '+ alpha +' is Vowel')\n",
    "else:\n",
    "    print('Letter '+ alpha +' is not Vowel')"
   ]
  },
  {
   "cell_type": "code",
   "execution_count": null,
   "metadata": {},
   "outputs": [],
   "source": []
  },
  {
   "cell_type": "code",
   "execution_count": null,
   "metadata": {},
   "outputs": [],
   "source": []
  }
 ],
 "metadata": {
  "kernelspec": {
   "display_name": "Python 3",
   "language": "python",
   "name": "python3"
  },
  "language_info": {
   "codemirror_mode": {
    "name": "ipython",
    "version": 3
   },
   "file_extension": ".py",
   "mimetype": "text/x-python",
   "name": "python",
   "nbconvert_exporter": "python",
   "pygments_lexer": "ipython3",
   "version": "3.7.3"
  }
 },
 "nbformat": 4,
 "nbformat_minor": 2
}
