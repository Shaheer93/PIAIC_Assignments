{
 "cells": [
  {
   "cell_type": "code",
   "execution_count": 4,
   "metadata": {},
   "outputs": [
    {
     "name": "stdout",
     "output_type": "stream",
     "text": [
      "kindly enter numerator5\n",
      "kindly enter Denominator5\n",
      "Number 5.0 is Completely divisible by  5.0\n"
     ]
    }
   ],
   "source": [
    "numerator = float(input('kindly enter numerator'))\n",
    "Denominator = float(input('kindly enter Denominator'))\n",
    "\n",
    "rem = numerator % Denominator\n",
    "\n",
    "if rem > 0:\n",
    "    a = 'Number ' + str(numerator) + ' is not Completely divisible by ' + str(Denominator)\n",
    "else:\n",
    "    a = 'Number ' + str(numerator) + ' is Completely divisible by  ' + str(Denominator)\n",
    "        \n",
    "print(a)"
   ]
  },
  {
   "cell_type": "code",
   "execution_count": null,
   "metadata": {},
   "outputs": [],
   "source": []
  }
 ],
 "metadata": {
  "kernelspec": {
   "display_name": "Python 3",
   "language": "python",
   "name": "python3"
  }
 },
 "nbformat": 4,
 "nbformat_minor": 2
}
