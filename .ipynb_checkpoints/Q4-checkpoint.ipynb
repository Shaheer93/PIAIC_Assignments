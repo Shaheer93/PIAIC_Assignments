{
 "cells": [
  {
   "cell_type": "code",
   "execution_count": 22,
   "metadata": {},
   "outputs": [
    {
     "name": "stdout",
     "output_type": "stream",
     "text": [
      "Enter a date in (dd/mm/yy)16/06/2019\n",
      "Enter a date in (dd/mm/yy)16/7/2019\n"
     ]
    },
    {
     "ename": "NameError",
     "evalue": "name 'ddate1' is not defined",
     "output_type": "error",
     "traceback": [
      "\u001b[1;31m---------------------------------------------------------------------------\u001b[0m",
      "\u001b[1;31mNameError\u001b[0m                                 Traceback (most recent call last)",
      "\u001b[1;32m<ipython-input-22-51a70ba23958>\u001b[0m in \u001b[0;36m<module>\u001b[1;34m\u001b[0m\n\u001b[0;32m     11\u001b[0m \u001b[1;33m\u001b[0m\u001b[0m\n\u001b[0;32m     12\u001b[0m \u001b[0mans\u001b[0m \u001b[1;33m=\u001b[0m \u001b[0mCal_days\u001b[0m\u001b[1;33m(\u001b[0m\u001b[0mdate1\u001b[0m\u001b[1;33m,\u001b[0m\u001b[0mdate2\u001b[0m\u001b[1;33m)\u001b[0m\u001b[1;33m\u001b[0m\u001b[1;33m\u001b[0m\u001b[0m\n\u001b[1;32m---> 13\u001b[1;33m \u001b[0mprint\u001b[0m\u001b[1;33m(\u001b[0m\u001b[1;34m'There are '\u001b[0m\u001b[1;33m+\u001b[0m \u001b[0mstr\u001b[0m\u001b[1;33m(\u001b[0m\u001b[0mans\u001b[0m\u001b[1;33m)\u001b[0m \u001b[1;33m+\u001b[0m \u001b[1;34m' days in between '\u001b[0m\u001b[1;33m+\u001b[0m\u001b[0mstr\u001b[0m\u001b[1;33m(\u001b[0m\u001b[0mddate1\u001b[0m\u001b[1;33m)\u001b[0m \u001b[1;33m+\u001b[0m\u001b[1;34m' and '\u001b[0m \u001b[1;33m+\u001b[0m\u001b[0mstr\u001b[0m\u001b[1;33m(\u001b[0m\u001b[0mdate2\u001b[0m\u001b[1;33m)\u001b[0m\u001b[1;33m)\u001b[0m\u001b[1;33m\u001b[0m\u001b[1;33m\u001b[0m\u001b[0m\n\u001b[0m\u001b[0;32m     14\u001b[0m \u001b[1;33m\u001b[0m\u001b[0m\n",
      "\u001b[1;31mNameError\u001b[0m: name 'ddate1' is not defined"
     ]
    }
   ],
   "source": [
    "import datetime\n",
    "\n",
    "def Cal_days(date1, date2):\n",
    "\n",
    "    a = date1\n",
    "    b = date2\n",
    "    return (a-b).days\n",
    "\n",
    "date1 = datetime.datetime.strptime((input('Enter a date in (dd/mm/yy)')),\"%d/%m/%Y\")\n",
    "date2 = datetime.datetime.strptime((input('Enter a date in (dd/mm/yy)')),\"%d/%m/%Y\")\n",
    "\n",
    "ans = Cal_days(date1,date2)\n",
    "print('There are '+ str(ans) + ' days in between '+str(date1) +' and ' +str(date2))\n",
    "  "
   ]
  },
  {
   "cell_type": "code",
   "execution_count": 26,
   "metadata": {},
   "outputs": [
    {
     "name": "stdout",
     "output_type": "stream",
     "text": [
      "Enter a date in (dd/mm/yy) format: 16/7/2019\n",
      "Enter a date in (dd/mm/yy) format: 16/9/2019\n",
      "There are -62 days in between 16/07/2019 and 16/09/19\n"
     ]
    }
   ],
   "source": [
    "import datetime\n",
    "\n",
    "def Cal_days(date1, date2):\n",
    "\n",
    "    a = date1\n",
    "    b = date2\n",
    "    return (a-b).days\n",
    "\n",
    "date1 = datetime.datetime.strptime((input('Enter a date in (dd/mm/yy) format: ')),\"%d/%m/%Y\")\n",
    "date2 = datetime.datetime.strptime((input('Enter a date in (dd/mm/yy) format: ')),\"%d/%m/%Y\")\n",
    "\n",
    "ans = Cal_days(date1,date2)\n",
    "print('There are '+ str(ans) + ' days in between '+ date1.strftime(\"%d/%m/%Y\") +' and ' +date2.strftime(\"%d/%m/%y\"))\n",
    "  "
   ]
  },
  {
   "cell_type": "code",
   "execution_count": 24,
   "metadata": {},
   "outputs": [
    {
     "name": "stdout",
     "output_type": "stream",
     "text": [
      "Enter a date in (dd/mm/yy) format: 16/7/2019\n",
      "Jul 16 2019 00:00:00\n"
     ]
    }
   ],
   "source": [
    "date1 = datetime.datetime.strptime((input('Enter a date in (dd/mm/yy) format: ')),\"%d/%m/%Y\")\n",
    "print(date1.strftime(\"%b %d %Y %H:%M:%S\"))  "
   ]
  },
  {
   "cell_type": "code",
   "execution_count": null,
   "metadata": {},
   "outputs": [],
   "source": []
  }
 ],
 "metadata": {
  "kernelspec": {
   "display_name": "Python 3",
   "language": "python",
   "name": "python3"
  },
  "language_info": {
   "codemirror_mode": {
    "name": "ipython",
    "version": 3
   },
   "file_extension": ".py",
   "mimetype": "text/x-python",
   "name": "python",
   "nbconvert_exporter": "python",
   "pygments_lexer": "ipython3",
   "version": "3.7.3"
  }
 },
 "nbformat": 4,
 "nbformat_minor": 2
}
