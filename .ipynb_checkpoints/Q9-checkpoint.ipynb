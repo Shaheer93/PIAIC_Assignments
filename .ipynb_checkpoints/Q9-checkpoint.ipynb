{
 "cells": [
  {
   "cell_type": "code",
   "execution_count": 3,
   "metadata": {},
   "outputs": [
    {
     "name": "stdout",
     "output_type": "stream",
     "text": [
      "Enter magnitude of Triangle base: 4\n",
      "Enter Magnitude of Triangle Height: 4\n",
      "Area of a Triangle with Height 4.0 and Base 4.0 is 8.0\n"
     ]
    }
   ],
   "source": [
    "base = float(input('Enter magnitude of Triangle base: '))\n",
    "Height = float(input('Enter Magnitude of Triangle Height: '))\n",
    "\n",
    "area = Height * (base/2)\n",
    "print('Area of a Triangle with Height '+str(Height)+' and Base '+str(base)+' is '+str(area)+'')"
   ]
  },
  {
   "cell_type": "code",
   "execution_count": null,
   "metadata": {},
   "outputs": [],
   "source": []
  }
 ],
 "metadata": {
  "kernelspec": {
   "display_name": "Python 3",
   "language": "python",
   "name": "python3"
  },
  "language_info": {
   "codemirror_mode": {
    "name": "ipython",
    "version": 3
   },
   "file_extension": ".py",
   "mimetype": "text/x-python",
   "name": "python",
   "nbconvert_exporter": "python",
   "pygments_lexer": "ipython3",
   "version": "3.7.3"
  }
 },
 "nbformat": 4,
 "nbformat_minor": 2
}
